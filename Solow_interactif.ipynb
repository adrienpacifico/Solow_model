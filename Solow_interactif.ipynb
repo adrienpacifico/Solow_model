{
 "cells": [
  {
   "cell_type": "markdown",
   "metadata": {},
   "source": [
    "# Le modèle de Solow simplifié et *résumé* en utilisant Python."
   ]
  },
  {
   "cell_type": "code",
   "execution_count": 107,
   "metadata": {},
   "outputs": [],
   "source": [
    "from IPython.display import display,HTML\n",
    "import numpy as np\n",
    "import matplotlib.pyplot as plt\n",
    "import ipywidgets as widgets\n",
    "import pandas as pd"
   ]
  },
  {
   "cell_type": "code",
   "execution_count": null,
   "metadata": {},
   "outputs": [],
   "source": []
  },
  {
   "cell_type": "code",
   "execution_count": 108,
   "metadata": {},
   "outputs": [
    {
     "data": {
      "application/vnd.jupyter.widget-view+json": {
       "model_id": "78bcfd0cfc8742d9bfd8e7dad03f8a16",
       "version_major": 2,
       "version_minor": 0
      },
      "text/plain": [
       "HBox(children=(VBox(children=(FloatSlider(value=0.5, description='\\\\(\\\\alpha \\\\)', max=1.0, step=0.01), FloatS…"
      ]
     },
     "metadata": {},
     "output_type": "display_data"
    }
   ],
   "source": [
    "alpha = widgets.FloatSlider(value = .5, min=0, max=1, step = 0.01, description=r'\\(\\alpha \\)')\n",
    "delta = widgets.FloatSlider(value = .05, min=0, max=1, step = 0.01, description=r'\\(\\delta \\)')\n",
    "s = widgets.FloatSlider(value = .5, min=0, max=1, step = 0.01, description=r'\\(\\ s \\)')\n",
    "\n",
    "#def f(alpha, delta, k, s):\n",
    "def f(alpha, s, delta):\n",
    "    plt.figure(figsize = (10,5))#(20,10))\n",
    "    k = np.linspace(0, 100, num=200)\n",
    "    plt.plot(k,  k**alpha, label = \"f(k)\")\n",
    "    plt.plot(k,  s*k**alpha, label = \"sf(k)\")\n",
    "    plt.plot(k,  delta*k, label = \"$\\delta k$\")\n",
    "    plt.grid() ; plt.xlabel(\"k\") ; plt.ylabel(\"y\"); plt.legend()\n",
    "\n",
    "\n",
    "\n",
    "interactive_plot = widgets.interactive_output(f, {\"alpha\":alpha, \"s\":s, \"delta\":delta})\n",
    "widgets.HBox([widgets.VBox([alpha,delta,s]), interactive_plot])\n"
   ]
  },
  {
   "cell_type": "markdown",
   "metadata": {},
   "source": [
    "### Avec la dérivée à f(k)"
   ]
  },
  {
   "cell_type": "code",
   "execution_count": null,
   "metadata": {},
   "outputs": [],
   "source": []
  },
  {
   "cell_type": "code",
   "execution_count": 120,
   "metadata": {},
   "outputs": [
    {
     "data": {
      "application/vnd.jupyter.widget-view+json": {
       "model_id": "a8ab211c95ed46e0bc6ee38831f7f580",
       "version_major": 2,
       "version_minor": 0
      },
      "text/plain": [
       "HBox(children=(VBox(children=(FloatSlider(value=0.5, description='\\\\(\\\\alpha \\\\)', max=1.0, step=0.01), FloatS…"
      ]
     },
     "metadata": {},
     "output_type": "display_data"
    }
   ],
   "source": [
    "alpha = widgets.FloatSlider(value = .5, min=0, max=1, step = 0.01, description=r'\\(\\alpha \\)')\n",
    "delta = widgets.FloatSlider(value = .05, min=0, max=1, step = 0.01, description=r'\\(\\delta \\)')\n",
    "s = widgets.FloatSlider(value = .1, min=0, max=1, step = 0.01, description=r'\\(\\ s \\)')\n",
    "\n",
    "\n",
    "def f(alpha, s, delta):\n",
    "    plt.figure(figsize = (10,5))#(20,10))\n",
    "    k = np.linspace(0, 100, num=200)\n",
    "    plt.plot(k,  k**alpha, label = \"f(k)\")\n",
    "    plt.plot(k,  s*k**alpha, label = \"sf(k)\")\n",
    "    plt.plot(k,  delta*k, label = \"$\\delta k$\")\n",
    "    \n",
    "    k_etoile = (s/delta)**(1/(1-alpha))\n",
    "    f_prime_de_k = alpha * k_etoile**(alpha - 1)\n",
    "    \n",
    "    \n",
    "    tangeante_a_f_de_k =   f_prime_de_k*k + f_prime_de_k*k_etoile\n",
    "    plt.plot(k,tangeante_a_f_de_k)\n",
    "    plt.grid() ; plt.xlabel(\"k\") ; plt.ylabel(\"y\"); plt.legend(); plt.ylim(0,(k**alpha)[-1] )\n",
    "\n",
    "\n",
    "\n",
    "interactive_plot = widgets.interactive_output(f, {\"alpha\":alpha, \"s\":s, \"delta\":delta})\n",
    "widgets.HBox([widgets.VBox([alpha,delta,s]), interactive_plot])\n",
    "\n"
   ]
  },
  {
   "cell_type": "markdown",
   "metadata": {},
   "source": [
    "### Solveurs d'exercices"
   ]
  },
  {
   "cell_type": "code",
   "execution_count": 83,
   "metadata": {},
   "outputs": [],
   "source": [
    "def etat_stationnaire(alpha, s,delta):\n",
    "    k_etoile = (s/delta)**(1/(1-alpha))\n",
    "    return k_etoile"
   ]
  },
  {
   "cell_type": "code",
   "execution_count": 121,
   "metadata": {},
   "outputs": [
    {
     "data": {
      "text/plain": [
       "16.0"
      ]
     },
     "execution_count": 121,
     "metadata": {},
     "output_type": "execute_result"
    }
   ],
   "source": [
    "etat_stationnaire(alpha = 0.5, s =  0.2, delta = 0.05)"
   ]
  },
  {
   "cell_type": "code",
   "execution_count": 122,
   "metadata": {},
   "outputs": [],
   "source": [
    "def fonction_k_or(alpha,delta):\n",
    "    k_or = (delta/alpha)**(1/(alpha-1))\n",
    "    return round(k_or, 2)\n",
    "    "
   ]
  },
  {
   "cell_type": "code",
   "execution_count": 123,
   "metadata": {},
   "outputs": [
    {
     "data": {
      "text/plain": [
       "100.0"
      ]
     },
     "execution_count": 123,
     "metadata": {},
     "output_type": "execute_result"
    }
   ],
   "source": [
    "fonction_k_or(alpha = 0.5,delta = 0.05)"
   ]
  },
  {
   "cell_type": "code",
   "execution_count": 124,
   "metadata": {},
   "outputs": [],
   "source": [
    "def regle_or(alpha,delta):\n",
    "    k_or = fonction_k_or(alpha,delta)\n",
    "    s_or = delta*k_or**(1- alpha)\n",
    "    \n",
    "    y_or = k_or**alpha\n",
    "    c_or = (1-s_or) * y_or\n",
    "    i_or = s_or * y_or\n",
    "    display(HTML(pd.DataFrame({\"$s^*_{or}$\":[s_or], \"$k_{or}^*$\":[k_or], \"$y_{or}^*$\":[y_or], \"$c_{or}^*$\":[c_or],\n",
    "                         \"$i_{or}^*$\":[i_or]}).to_html(index = False)))"
   ]
  },
  {
   "cell_type": "code",
   "execution_count": 125,
   "metadata": {},
   "outputs": [
    {
     "data": {
      "text/html": [
       "<table border=\"1\" class=\"dataframe\">\n",
       "  <thead>\n",
       "    <tr style=\"text-align: right;\">\n",
       "      <th>$s^*_{or}$</th>\n",
       "      <th>$k_{or}^*$</th>\n",
       "      <th>$y_{or}^*$</th>\n",
       "      <th>$c_{or}^*$</th>\n",
       "      <th>$i_{or}^*$</th>\n",
       "    </tr>\n",
       "  </thead>\n",
       "  <tbody>\n",
       "    <tr>\n",
       "      <td>0.5</td>\n",
       "      <td>100.0</td>\n",
       "      <td>10.0</td>\n",
       "      <td>5.0</td>\n",
       "      <td>5.0</td>\n",
       "    </tr>\n",
       "  </tbody>\n",
       "</table>"
      ],
      "text/plain": [
       "<IPython.core.display.HTML object>"
      ]
     },
     "metadata": {},
     "output_type": "display_data"
    }
   ],
   "source": [
    "regle_or(alpha = 0.5, delta = 0.05)"
   ]
  },
  {
   "cell_type": "code",
   "execution_count": null,
   "metadata": {},
   "outputs": [],
   "source": []
  }
 ],
 "metadata": {
  "kernelspec": {
   "display_name": "Python 3",
   "language": "python",
   "name": "python3"
  },
  "language_info": {
   "codemirror_mode": {
    "name": "ipython",
    "version": 3
   },
   "file_extension": ".py",
   "mimetype": "text/x-python",
   "name": "python",
   "nbconvert_exporter": "python",
   "pygments_lexer": "ipython3",
   "version": "3.7.4"
  },
  "toc": {
   "base_numbering": 1,
   "nav_menu": {},
   "number_sections": true,
   "sideBar": true,
   "skip_h1_title": false,
   "title_cell": "Table of Contents",
   "title_sidebar": "Contents",
   "toc_cell": false,
   "toc_position": {},
   "toc_section_display": true,
   "toc_window_display": false
  },
  "varInspector": {
   "cols": {
    "lenName": 16,
    "lenType": 16,
    "lenVar": 40
   },
   "kernels_config": {
    "python": {
     "delete_cmd_postfix": "",
     "delete_cmd_prefix": "del ",
     "library": "var_list.py",
     "varRefreshCmd": "print(var_dic_list())"
    },
    "r": {
     "delete_cmd_postfix": ") ",
     "delete_cmd_prefix": "rm(",
     "library": "var_list.r",
     "varRefreshCmd": "cat(var_dic_list()) "
    }
   },
   "types_to_exclude": [
    "module",
    "function",
    "builtin_function_or_method",
    "instance",
    "_Feature"
   ],
   "window_display": false
  }
 },
 "nbformat": 4,
 "nbformat_minor": 2
}
