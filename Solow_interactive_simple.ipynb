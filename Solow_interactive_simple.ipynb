{
 "cells": [
  {
   "cell_type": "markdown",
   "metadata": {},
   "source": [
    "# Le modèle de Solow simplifié et *résumé* en utilisant Python."
   ]
  },
  {
   "cell_type": "code",
   "execution_count": 1,
   "metadata": {},
   "outputs": [],
   "source": [
    "import ipywidgets as widgets"
   ]
  },
  {
   "cell_type": "code",
   "execution_count": 12,
   "metadata": {},
   "outputs": [
    {
     "data": {
      "application/vnd.jupyter.widget-view+json": {
       "model_id": "04ea8a27c55b47feb71ae59e4c96bbbb",
       "version_major": 2,
       "version_minor": 0
      },
      "text/plain": [
       "HBox(children=(VBox(children=(FloatSlider(value=0.5, description='\\\\(\\\\alpha \\\\)', max=1.0, step=0.01), FloatS…"
      ]
     },
     "metadata": {},
     "output_type": "display_data"
    }
   ],
   "source": [
    "alpha = widgets.FloatSlider(value = .5, min=0, max=1, step = 0.01, description=r'\\(\\alpha \\)')\n",
    "delta = widgets.FloatSlider(value = .05, min=0, max=1, step = 0.01, description=r'\\(\\delta \\)')\n",
    "s = widgets.FloatSlider(value = .5, min=0, max=1, step = 0.01, description=r'\\(\\ s \\)')\n",
    "\n",
    "#def f(alpha, delta, k, s):\n",
    "def f(alpha, s, delta):\n",
    "    plt.figure(figsize = (20,10))\n",
    "    k = np.linspace(0, 100, num=200)\n",
    "    plt.plot(k,  k**alpha)\n",
    "    plt.plot(k,  s*k**alpha)\n",
    "    plt.plot(k,  delta*k)\n",
    "    plt.grid() ; plt.xlabel(\"k\") ; plt.ylabel(\"y\")\n",
    "\n",
    "\n",
    "\n",
    "interactive_plot = widgets.interactive_output(f, {\"alpha\":alpha, \"s\":s, \"delta\":delta})\n",
    "widgets.HBox([widgets.VBox([alpha,delta,s]), interactive_plot])\n"
   ]
  },
  {
   "cell_type": "code",
   "execution_count": null,
   "metadata": {},
   "outputs": [],
   "source": []
  }
 ],
 "metadata": {
  "kernelspec": {
   "display_name": "Python 3",
   "language": "python",
   "name": "python3"
  },
  "language_info": {
   "codemirror_mode": {
    "name": "ipython",
    "version": 3
   },
   "file_extension": ".py",
   "mimetype": "text/x-python",
   "name": "python",
   "nbconvert_exporter": "python",
   "pygments_lexer": "ipython3",
   "version": "3.7.4"
  },
  "toc": {
   "base_numbering": 1,
   "nav_menu": {},
   "number_sections": true,
   "sideBar": true,
   "skip_h1_title": false,
   "title_cell": "Table of Contents",
   "title_sidebar": "Contents",
   "toc_cell": false,
   "toc_position": {},
   "toc_section_display": true,
   "toc_window_display": false
  },
  "varInspector": {
   "cols": {
    "lenName": 16,
    "lenType": 16,
    "lenVar": 40
   },
   "kernels_config": {
    "python": {
     "delete_cmd_postfix": "",
     "delete_cmd_prefix": "del ",
     "library": "var_list.py",
     "varRefreshCmd": "print(var_dic_list())"
    },
    "r": {
     "delete_cmd_postfix": ") ",
     "delete_cmd_prefix": "rm(",
     "library": "var_list.r",
     "varRefreshCmd": "cat(var_dic_list()) "
    }
   },
   "types_to_exclude": [
    "module",
    "function",
    "builtin_function_or_method",
    "instance",
    "_Feature"
   ],
   "window_display": false
  }
 },
 "nbformat": 4,
 "nbformat_minor": 2
}
