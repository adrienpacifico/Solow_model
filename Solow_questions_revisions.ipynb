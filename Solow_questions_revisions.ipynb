{
 "cells": [
  {
   "cell_type": "markdown",
   "metadata": {},
   "source": [
    "# Le modèle de Solow simplifié et *résumé* en utilisant Python."
   ]
  },
  {
   "cell_type": "markdown",
   "metadata": {},
   "source": [
    "Pour utiliser ce notebook, il suffit d'appuyer sur Maj + Entrée pour exécuter une cellule. "
   ]
  },
  {
   "cell_type": "code",
   "execution_count": 1,
   "metadata": {},
   "outputs": [],
   "source": [
    "# On import deux packages\n",
    "import pandas as pd\n",
    "import matplotlib.pyplot as plt\n",
    "import numpy as np"
   ]
  },
  {
   "cell_type": "markdown",
   "metadata": {},
   "source": [
    "## Le capital  \n",
    "Le modèle de Solow fait le lien entre le capital aggrégé **K**, le niveau de travail **L** aggrégé, et la production dans un pays **Y** (i.e. le PIB).  \n",
    "\n",
    "En effet pour produire des biens et des services, il faut deux choses, du travail et du capital. En combinant les deux on peut produire des biens (le travail d'un agriculteur, combiné à des terres, des graines va produire des récoltes) et des services (le travail d'un médecin, et d'un cabinet médical va produire des consultations). \n",
    "\n",
    "On ne sait pas exactement comment le capital et le travail vont se combiner. Étant donné notre ignorance, on va dans un premier temps utiliser une fonction générale, qui dit simplement que quand on mélange K euros de capital et L heures travail, on va produire Y euros de biens et services.\n",
    "\n",
    "\n",
    "$$Y = F(K,L)$$\n",
    "\n",
    "Cependant Douglass un économiste a remarqué que la part du capital et du travail était constante dans l'économie. Qu'est-ce que cela veut dire ? xxxxxxxxxxxx\n",
    "\n",
    "\n",
    "En s'associant au mathématicien Cobb, ils se rendent compte que ce qui respecte cette propriété est une fonction de type: \n",
    "\n",
    "$$Y = K^{\\alpha} L^{1- \\alpha}$$\n",
    "\n",
    "\n",
    "Nous n'avons plus besoin d'utiliser la fonction générale de production $Y = F(K,L)$ puisque nous avons trouvé une fonction particulière (ou un cas particulier de notre fonction générale) qui décrit \"assez\" correctement la réalité.\n",
    "\n",
    "\n",
    "Une des particularités de la fonction Cobb-Douglass est d'avoir des rendements d'échelles constants si $\\alpha \\in ]0,1[$\n",
    "\n",
    "Ce qui nous permet en faisant l'hypothèse de l'agent représentatif (c'est à dire que l'on considère que notre économie peut être résumée à un individu moyen), de considérer notre économie sous forme intensive (ou par tête).\n",
    "\n",
    "$$Y = K^{\\alpha} L^{1- \\alpha} \\implies \\frac{Y}{L} = \\frac{K^{\\alpha} L^{1- \\alpha}}{L} = \\left( \\frac{K}{L}\\right)^\\alpha \\left(\\frac{L}{L}\\right)^{(1-\\alpha)}$$\n",
    "\n",
    "$$ \\implies \\left( \\frac{K}{L}\\right)^\\alpha $$\n",
    "\n",
    "En définissant $y \\equiv \\frac{Y}{L}$ , et $k \\equiv \\frac{K}{L}$, on peut écrire :\n",
    "\n",
    "$$y = k^\\alpha$$\n",
    "\n",
    "\n"
   ]
  },
  {
   "cell_type": "markdown",
   "metadata": {},
   "source": [
    "On va donc définir un vecteur de capital, qui défini juste différent niveau de capital par tête possible pour une économie.\n",
    "Les chiffres sont peu élevés, mais nous pouvons considérer que ces montants sont en dizainne de milliers d'euros par exemple."
   ]
  },
  {
   "cell_type": "code",
   "execution_count": 2,
   "metadata": {},
   "outputs": [],
   "source": [
    "k = np.array([0,4,12,16,36,64,100,121,144])\n",
    "k = np.array([0,4,12,16,20,36,])"
   ]
  },
  {
   "cell_type": "markdown",
   "metadata": {},
   "source": [
    "Ensuite nous allons définir la fonction de production, qui est une fonction de Cobb-Douglass avec un $\\alpha$ égal à 0.5"
   ]
  },
  {
   "cell_type": "code",
   "execution_count": 3,
   "metadata": {},
   "outputs": [],
   "source": [
    "def f(k, alpha):\n",
    "    return k**(alpha)\n",
    "alpha = 0.5"
   ]
  },
  {
   "cell_type": "markdown",
   "metadata": {},
   "source": [
    "Nous définissons ensuite le vecteur de production y qui associe la production par tête à un niveau de capital k."
   ]
  },
  {
   "cell_type": "code",
   "execution_count": 4,
   "metadata": {},
   "outputs": [
    {
     "data": {
      "text/plain": [
       "array([0.        , 2.        , 3.46410162, 4.        , 4.47213595,\n",
       "       6.        ])"
      ]
     },
     "execution_count": 4,
     "metadata": {},
     "output_type": "execute_result"
    }
   ],
   "source": [
    "y = f(k, alpha)\n",
    "y"
   ]
  },
  {
   "cell_type": "code",
   "execution_count": 5,
   "metadata": {},
   "outputs": [
    {
     "data": {
      "text/html": [
       "<div>\n",
       "<style scoped>\n",
       "    .dataframe tbody tr th:only-of-type {\n",
       "        vertical-align: middle;\n",
       "    }\n",
       "\n",
       "    .dataframe tbody tr th {\n",
       "        vertical-align: top;\n",
       "    }\n",
       "\n",
       "    .dataframe thead th {\n",
       "        text-align: right;\n",
       "    }\n",
       "</style>\n",
       "<table border=\"1\" class=\"dataframe\">\n",
       "  <thead>\n",
       "    <tr style=\"text-align: right;\">\n",
       "      <th></th>\n",
       "      <th>y = f(k)</th>\n",
       "    </tr>\n",
       "    <tr>\n",
       "      <th>k</th>\n",
       "      <th></th>\n",
       "    </tr>\n",
       "  </thead>\n",
       "  <tbody>\n",
       "    <tr>\n",
       "      <th>0</th>\n",
       "      <td>0.000000</td>\n",
       "    </tr>\n",
       "    <tr>\n",
       "      <th>4</th>\n",
       "      <td>2.000000</td>\n",
       "    </tr>\n",
       "    <tr>\n",
       "      <th>12</th>\n",
       "      <td>3.464102</td>\n",
       "    </tr>\n",
       "    <tr>\n",
       "      <th>16</th>\n",
       "      <td>4.000000</td>\n",
       "    </tr>\n",
       "    <tr>\n",
       "      <th>20</th>\n",
       "      <td>4.472136</td>\n",
       "    </tr>\n",
       "    <tr>\n",
       "      <th>36</th>\n",
       "      <td>6.000000</td>\n",
       "    </tr>\n",
       "  </tbody>\n",
       "</table>\n",
       "</div>"
      ],
      "text/plain": [
       "    y = f(k)\n",
       "k           \n",
       "0   0.000000\n",
       "4   2.000000\n",
       "12  3.464102\n",
       "16  4.000000\n",
       "20  4.472136\n",
       "36  6.000000"
      ]
     },
     "execution_count": 5,
     "metadata": {},
     "output_type": "execute_result"
    }
   ],
   "source": [
    "pd.DataFrame({\"k\": k, \"y = f(k)\" : y}).set_index(\"k\") #Juse pour pour produire le tableau contenant les vecteurs y en fonction de k"
   ]
  },
  {
   "cell_type": "markdown",
   "metadata": {},
   "source": [
    "On voit donc que dans cette économie, si l'habitant moyen a à sa disposition 40 000 euros de capital, il va pouvoir produire 20 0000 euros de biens et services. Pour savoir quel va être le pib de cette économie, il suffit donc de multiplier y par le nombre d'habitants !"
   ]
  },
  {
   "cell_type": "code",
   "execution_count": 6,
   "metadata": {},
   "outputs": [
    {
     "data": {
      "text/plain": [
       "<matplotlib.legend.Legend at 0x125ade410>"
      ]
     },
     "execution_count": 6,
     "metadata": {},
     "output_type": "execute_result"
    },
    {
     "data": {
      "image/png": "[encoded data removed]",
      "text/plain": [
       "<Figure size 432x288 with 1 Axes>"
      ]
     },
     "metadata": {
      "needs_background": "light"
     },
     "output_type": "display_data"
    }
   ],
   "source": [
    "plt.plot(k,y, label = \"$f(k)$\")\n",
    "plt.xlabel(\"k\");plt.ylabel(\"y\"); plt.legend()"
   ]
  },
  {
   "cell_type": "markdown",
   "metadata": {},
   "source": [
    "Nous savons maintenant combien les habitants produisent en fonction du capital mis à leur disposition.\n",
    "Nous nous demandons maintenant combien ils vont consommer."
   ]
  },
  {
   "cell_type": "markdown",
   "metadata": {},
   "source": [
    "On sait que dans cette économie, l'agent représentatif consomme 80% de ce qu'il produit dans l'année et garde les 20% restant, soit pour acheter de nouvelles machines (ou moyens de productions), soit pour entretenir ses machines qui viellissent/s'usent avec le temps (c'est ce que l'on appelle la dépréciation (ou l'armortissement) du capital que l'on note $\\delta$).\n",
    "\n",
    "Ce que l'agent représentatif ne consomme pas est appellé l'éparge, et dans le modèle de Solow, on fait l'hypothèse que cette épargne est exogène (non déterminée par le modèle) et fixe (on ne s'amuse pas à la faire varier d'une période à l'autre)."
   ]
  },
  {
   "cell_type": "code",
   "execution_count": 7,
   "metadata": {},
   "outputs": [],
   "source": [
    "s = 0.2 # Le taux d'épargne"
   ]
  },
  {
   "cell_type": "code",
   "execution_count": 8,
   "metadata": {},
   "outputs": [
    {
     "data": {
      "text/plain": [
       "array([0.        , 1.6       , 2.77128129, 3.2       , 3.57770876,\n",
       "       4.8       ])"
      ]
     },
     "execution_count": 8,
     "metadata": {},
     "output_type": "execute_result"
    }
   ],
   "source": [
    "c = (1-s)*y\n",
    "c"
   ]
  },
  {
   "cell_type": "markdown",
   "metadata": {},
   "source": [
    "Ce qui va être épargné par l'agent représentif est donc $i = s \\times y$."
   ]
  },
  {
   "cell_type": "code",
   "execution_count": 9,
   "metadata": {},
   "outputs": [
    {
     "data": {
      "text/plain": [
       "array([0.        , 0.4       , 0.69282032, 0.8       , 0.89442719,\n",
       "       1.2       ])"
      ]
     },
     "execution_count": 9,
     "metadata": {},
     "output_type": "execute_result"
    }
   ],
   "source": [
    "i = s * y\n",
    "i\n"
   ]
  },
  {
   "cell_type": "code",
   "execution_count": 10,
   "metadata": {},
   "outputs": [
    {
     "data": {
      "text/plain": [
       "<matplotlib.legend.Legend at 0x125cfded0>"
      ]
     },
     "execution_count": 10,
     "metadata": {},
     "output_type": "execute_result"
    },
    {
     "data": {
      "image/png": "[encoded data removed]",
      "text/plain": [
       "<Figure size 432x288 with 1 Axes>"
      ]
     },
     "metadata": {
      "needs_background": "light"
     },
     "output_type": "display_data"
    }
   ],
   "source": [
    "plt.plot(k,y, label = \"$f(k)$\")\n",
    "plt.plot(k,s*y, label = \"$sf(k)$\")\n",
    "plt.xlabel(\"k\");plt.ylabel(\"y\"); plt.legend()"
   ]
  },
  {
   "cell_type": "markdown",
   "metadata": {},
   "source": [
    "Pour rappel l'écart entre la courbe orange et la courbe bleue représente la consommation."
   ]
  },
  {
   "cell_type": "markdown",
   "metadata": {},
   "source": [
    "La durée de vie du capital est égale au temps qu'il faut pour repayer tout le capital s'il se déprécie :\n",
    "\n",
    "$$\\delta K * T = K \\iff \\delta = \\frac{K}{K * T} = \\frac{1}{T}$$\n",
    "\n",
    "\n"
   ]
  },
  {
   "cell_type": "markdown",
   "metadata": {},
   "source": [
    "Donc pour T = 20, $\\delta = \\frac{1}{20} = 0.05$"
   ]
  },
  {
   "cell_type": "code",
   "execution_count": 11,
   "metadata": {},
   "outputs": [],
   "source": [
    "delta_k = k * 0.05"
   ]
  },
  {
   "cell_type": "code",
   "execution_count": 12,
   "metadata": {},
   "outputs": [
    {
     "data": {
      "text/plain": [
       "array([0. , 0.2, 0.6, 0.8, 1. , 1.8])"
      ]
     },
     "execution_count": 12,
     "metadata": {},
     "output_type": "execute_result"
    }
   ],
   "source": [
    "delta_k"
   ]
  },
  {
   "cell_type": "code",
   "execution_count": 13,
   "metadata": {},
   "outputs": [],
   "source": [
    "delta_k_majuscule = i - delta_k"
   ]
  },
  {
   "cell_type": "code",
   "execution_count": 14,
   "metadata": {},
   "outputs": [
    {
     "data": {
      "text/html": [
       "<div>\n",
       "<style scoped>\n",
       "    .dataframe tbody tr th:only-of-type {\n",
       "        vertical-align: middle;\n",
       "    }\n",
       "\n",
       "    .dataframe tbody tr th {\n",
       "        vertical-align: top;\n",
       "    }\n",
       "\n",
       "    .dataframe thead th {\n",
       "        text-align: right;\n",
       "    }\n",
       "</style>\n",
       "<table border=\"1\" class=\"dataframe\">\n",
       "  <thead>\n",
       "    <tr style=\"text-align: right;\">\n",
       "      <th></th>\n",
       "      <th>y = f(k)</th>\n",
       "      <th>i</th>\n",
       "      <th>c</th>\n",
       "      <th>$\\delta k$</th>\n",
       "      <th>$\\Delta k$</th>\n",
       "    </tr>\n",
       "    <tr>\n",
       "      <th>k</th>\n",
       "      <th></th>\n",
       "      <th></th>\n",
       "      <th></th>\n",
       "      <th></th>\n",
       "      <th></th>\n",
       "    </tr>\n",
       "  </thead>\n",
       "  <tbody>\n",
       "    <tr>\n",
       "      <th>0</th>\n",
       "      <td>0.000000</td>\n",
       "      <td>0.000000</td>\n",
       "      <td>0.000000</td>\n",
       "      <td>0.0</td>\n",
       "      <td>0.000000</td>\n",
       "    </tr>\n",
       "    <tr>\n",
       "      <th>4</th>\n",
       "      <td>2.000000</td>\n",
       "      <td>0.400000</td>\n",
       "      <td>1.600000</td>\n",
       "      <td>0.2</td>\n",
       "      <td>0.200000</td>\n",
       "    </tr>\n",
       "    <tr>\n",
       "      <th>12</th>\n",
       "      <td>3.464102</td>\n",
       "      <td>0.692820</td>\n",
       "      <td>2.771281</td>\n",
       "      <td>0.6</td>\n",
       "      <td>0.092820</td>\n",
       "    </tr>\n",
       "    <tr>\n",
       "      <th>16</th>\n",
       "      <td>4.000000</td>\n",
       "      <td>0.800000</td>\n",
       "      <td>3.200000</td>\n",
       "      <td>0.8</td>\n",
       "      <td>0.000000</td>\n",
       "    </tr>\n",
       "    <tr>\n",
       "      <th>20</th>\n",
       "      <td>4.472136</td>\n",
       "      <td>0.894427</td>\n",
       "      <td>3.577709</td>\n",
       "      <td>1.0</td>\n",
       "      <td>-0.105573</td>\n",
       "    </tr>\n",
       "    <tr>\n",
       "      <th>36</th>\n",
       "      <td>6.000000</td>\n",
       "      <td>1.200000</td>\n",
       "      <td>4.800000</td>\n",
       "      <td>1.8</td>\n",
       "      <td>-0.600000</td>\n",
       "    </tr>\n",
       "  </tbody>\n",
       "</table>\n",
       "</div>"
      ],
      "text/plain": [
       "    y = f(k)         i         c  $\\delta k$  $\\Delta k$\n",
       "k                                                       \n",
       "0   0.000000  0.000000  0.000000         0.0    0.000000\n",
       "4   2.000000  0.400000  1.600000         0.2    0.200000\n",
       "12  3.464102  0.692820  2.771281         0.6    0.092820\n",
       "16  4.000000  0.800000  3.200000         0.8    0.000000\n",
       "20  4.472136  0.894427  3.577709         1.0   -0.105573\n",
       "36  6.000000  1.200000  4.800000         1.8   -0.600000"
      ]
     },
     "execution_count": 14,
     "metadata": {},
     "output_type": "execute_result"
    }
   ],
   "source": [
    "pd.DataFrame({\"k\": k, \"y = f(k)\" : y, \"i\" : i,\"c\":c, \"$\\delta k$\": delta_k, \"$\\Delta k$\":delta_k_majuscule}).set_index(\"k\")"
   ]
  },
  {
   "cell_type": "markdown",
   "metadata": {},
   "source": [
    "### Etat stationnaire"
   ]
  },
  {
   "cell_type": "markdown",
   "metadata": {},
   "source": [
    "L'économie est à l'état stationnaire quand elle n'évolue plus, c'est à dire quand $k_{t+1} =k_{t}$.\n",
    "$$k_{t+1} =k_{t} \\iff  k_{t+1} - k_{t}=0 $$\n",
    "En économie nous notons souvent la variation d'une variable entre deux période par la lettre $\\Delta$, et donc $\\Delta k_t \\equiv k_{t+1} - k_{t} $.  \n",
    "\n",
    "La variation du capital d'une période à l'autre dans notre modèle de Solow simplifié est simplement le capital nouvellement créé $i$ moins le capital qui viellit $\\delta k$.\n",
    "\n",
    "$$\\Delta k_t = i- \\delta k = 0$$ $$\\iff sf(k) - \\delta k = 0 $$ $$ \\iff \\boxed{sf(k) = \\delta k}$$\n",
    "\n",
    "On rappellera que l'investissement est égal à l'épargne (qui est la production que l'on ne consomme pas $y-c$), et que l'épargne par tête est une part $s$ de la production $y$, ce qui fait que l'épargne par tête est égale à $sy$.\n",
    "\n",
    "En terme de notation on notera $k^*$ le niveau de capital tel que $ sf(k) = \\delta k $ et qui correspond donc au capital à l'état stationnaire (on pourra étendre cette notation pour $c^*$, $y^*$, et $i^*$ qui representerons respectivement la consommation, la production et l'investissement, par tête à l'état stationnaire)."
   ]
  },
  {
   "cell_type": "markdown",
   "metadata": {},
   "source": [
    "Graphiquement  $sf(k) = \\delta k$ est le point ou la courbe $sf(k)$ coupe la droite $\\delta k$."
   ]
  },
  {
   "cell_type": "code",
   "execution_count": 15,
   "metadata": {},
   "outputs": [
    {
     "data": {
      "text/plain": [
       "<matplotlib.legend.Legend at 0x125da3290>"
      ]
     },
     "execution_count": 15,
     "metadata": {},
     "output_type": "execute_result"
    },
    {
     "data": {
      "image/png": "[encoded data removed]",
      "text/plain": [
       "<Figure size 432x288 with 1 Axes>"
      ]
     },
     "metadata": {
      "needs_background": "light"
     },
     "output_type": "display_data"
    }
   ],
   "source": [
    "plt.plot(k,y, label = \"$f(k)$\")\n",
    "plt.plot(k,s*y, label = \"$sf(k)$\")\n",
    "plt.plot(k,delta_k, label = \"$\\delta k$\")\n",
    "plt.xlabel(\"k\");plt.ylabel(\"y\"); plt.legend()"
   ]
  },
  {
   "cell_type": "markdown",
   "metadata": {},
   "source": [
    "On voit que la courbe $\\delta k$ coupe $sf(k)$ en $k = 16$.\n",
    "\n",
    "On voit également dans le tableau précédent que l'état stationnaire est atteint pour $k = 16$ car on voit bien que $\\delta{k} = 0$ (mais également que $i = \\delta k$)."
   ]
  },
  {
   "cell_type": "markdown",
   "metadata": {},
   "source": [
    "Mais on peut rapidement calculer $k^*$ à partir des données du problème.\n",
    "\n",
    "On sait que: \n",
    "   1. $\\alpha = 0.5$\n",
    "   1. $\\delta = 0.05$\n",
    "   1. $s = 0.2$\n",
    "   3. $sf(k^*) = \\delta k^* $\n",
    "\n",
    "En replaçant les valeurs de $\\alpha$, $\\delta$ et $s$ dans la dernière équation on obtient:\n",
    " $$1k^{0.5} = 0.05 k$$ \n",
    " $$ \\implies \\frac{0.2}{0.5} = \\frac{k^1}{k^{0.5}}$$ \n",
    " $$  \\implies \\frac{0.2}{0.5}= \\frac{k^1}{k^{0.5}} $$\n",
    " $$ \\implies 4 = k^{0.5} $$\n",
    " $$ \\boxed{k^* = 4^2 = 16}$$\n",
    " \n"
   ]
  },
  {
   "cell_type": "markdown",
   "metadata": {},
   "source": [
    "### Variation de l'épargne dans l'état stationnaire."
   ]
  },
  {
   "cell_type": "markdown",
   "metadata": {},
   "source": [
    "On a vu où était l'état stationnaire de cette économie pour un niveau d'épargne de 20%, que ce passerait-t-il si on changeait le niveau d'épargne ?"
   ]
  },
  {
   "cell_type": "markdown",
   "metadata": {},
   "source": [
    "#### Raisonnement aux extrêmes:   \n",
    "\n",
    "   * Que se passerait-il si le taux d'épargne est nul ?\n",
    "   * Que se passerait-il si le taux d'épargne est égal à 1 ?  \n",
    "   \n",
    "   \n",
    "Si le taux d'épargne est nul ($s = 0$), on n'investit rien dans l'économie, et le capital va viellir jusqu'à [ne valoir plus rien](https://fr.wikipedia.org/wiki/Effondrement_des_immeubles_rue_d%27Aubagne_à_Marseille), c'est à dire que $k = 0$. On aurait donc $y = f(0) = 0^{0.5} = 0$, on ne produirait plus rien car il n'y a pas de capital (machines) pour produire, et on ne **consommerait** donc rien.\n",
    "\n",
    "Si le taux d'épargne est égal à 100% ($s = 1$), les habitants vont épargner toute leur production et vont tout réinvestir dans leur économie pour augmenter k, ils ne consommeraient rien... Ils auraient un PIB par tête très élevé, mais ils serait totalement pauvre car leur consommation serait de 0."
   ]
  },
  {
   "cell_type": "markdown",
   "metadata": {},
   "source": [
    "Entre les deux on voit que plus on augmente $s$ plus le niveau de capital $k$ sera élevé à l'état stationnaire (la courbe $sf(k)$ se \"déformerait\" vers le haut (voir par exemple avec le graphique animé)).\n",
    "\n"
   ]
  },
  {
   "cell_type": "markdown",
   "metadata": {},
   "source": [
    "### Règle d'or"
   ]
  },
  {
   "cell_type": "markdown",
   "metadata": {},
   "source": [
    "Le but d'une économie n'est pas d'avoir le plus haut PIB par tête (et donc de maximiser y), mais bien de maximiser la consommation par tête c !  Car comme chacun le sait, plus on consomme, plus on est heureux, et le but d'une économie est de consommer le plus possible ⸮  \n",
    "\n",
    "\n",
    "(La ponctuation ci dessus est [point d'ironie](https://fr.wikipedia.org/wiki/Point_d%27ironie))."
   ]
  },
  {
   "cell_type": "markdown",
   "metadata": {},
   "source": [
    "Il existe, pour chaque taux d'épargne entre 0 et 1, un état stationnaire . Le capital $k$ à l'état stationnaire est positif ($k \\geq 0$), mais entraine une consommation nulle en $k^*$ pour $s = 0$ ou $s = 1$, si on a pour un taux d'épargne s un niveau de capital strictement positif ($k^*>0$), alors il existe un niveau de consommation $c^*$ qui est maximal. "
   ]
  },
  {
   "cell_type": "markdown",
   "metadata": {},
   "source": [
    "Plus on épargne, plus on augmente le niveau de capital dans l'économie. La fonction intensive de production est concave, c'est à dire que plus le capital est élevé dans l'économie, plus la productivité marginale va être faible : \n",
    "l'ajout d'une unité de capital supplémentaire (faire augmenter $k$ d'une unité) va faire augmenter la production $y$ dans des proportions de plus en plus faibles au fur et à mesure que k augmente (autrement dit $f'(k)$ décroit quand k augmente).  \n",
    "\n",
    "À l'inverse la dépréciation du capital est linéaire, c'est à dire que faire augmenter $k$ d'une unité va faire augmenter le capital déprécié dans des proportions constantes  ($(\\delta k)'$ est constant). \n",
    "\n",
    "Sachant que la consommation à l'état stationnaire est égale à la production moins la dépréciation du capital $c^{*} = y^* -  \\delta k^* $.(Faire la preuve)\n",
    "\n",
    "Cela implique que si on part d'un niveau faible de capital (gauche du graphique), augmenter d'une unité de capital la production, va faire fortement augmenter y, mais va faire augmenter la dépréciation du capital de $\\delta$. Tant que l'augmentation de la production est **plus grande** que l'augmentation de la dépréciation du capital, la consommation va augmenter.  \n",
    "\n",
    "Cependant si k est élevé (sur la droite du graphique), augmenter le capital va entrainner une augmentation de la production **plus petite** que l'investissement qu'il faudra rajouter garder le capital constant ( c'est à dire garder $i = \\delta k$ pour rester à l'état stationnaire)."
   ]
  },
  {
   "cell_type": "markdown",
   "metadata": {},
   "source": [
    "**La consomation est maximale quand l'augmentation de la production va être égale à l'augmentation de la dépréciation pour une petite variation de $k$**.  \n",
    "Ce qui mathématiquement va s'écrire : \n",
    "$$\\boxed{f'(k) = \\delta}$$\n",
    "\n",
    "C'est ce qui traduit la régle d'or.\n",
    "\n",
    "Graphiquement c'est quand la tangeante à la courbe $f(k)$ en $k^*$ est paralèle à la droite de dépréciation du capital  $\\delta k$."
   ]
  },
  {
   "cell_type": "markdown",
   "metadata": {},
   "source": [
    "#### Calcul du niveau de capital"
   ]
  },
  {
   "cell_type": "markdown",
   "metadata": {},
   "source": [
    "$f'(k_{or}) = (k_{or}^\\alpha)' = 0.5k^{-0.5} $\n",
    "$$f'(k) = \\delta \\implies 0.5k^{-0.5} = 0.05 $$\n",
    "$$\\implies k^*_{or} = \\left( \\frac{0.05}{0.5} \\right)^{-\\frac{1}{0.5}}= \\left( \\frac{0.05}{0.5} \\right)^{-2} = \\left( \\frac{0.5}{0.05} \\right)^{2} = \\left( \\frac{10}{1} \\right)^{2}= 10^2= 100$$"
   ]
  },
  {
   "cell_type": "markdown",
   "metadata": {},
   "source": [
    "#### Calcul du taux d'épargne qui permet de respecter la règle d'or"
   ]
  },
  {
   "cell_type": "markdown",
   "metadata": {},
   "source": [
    "On sait que le capital qui maximize la consommation à l'état stationnaire est $k^{or}$.   \n",
    "\n",
    "On souhaite maintenant trouver le taux d'épargne $s^{or}$qui permet d'atteindre cet état stationnaire.  \n",
    "\n",
    "\n",
    "\n",
    "Etat stationnaire: $$\\delta k^{or} = sf(k^{or})$$  \n",
    "\n",
    "$$\\implies s^{or} = \\frac{\\delta k^{or}}{f(k^{or})} $$  \n",
    "\n",
    "$$\\implies s^{or} = \\frac{0.05 \\times 100}{100^{0.5}}= 0.5 $$"
   ]
  },
  {
   "cell_type": "code",
   "execution_count": null,
   "metadata": {},
   "outputs": [],
   "source": []
  },
  {
   "cell_type": "markdown",
   "metadata": {},
   "source": [
    "### Interprétation graphique du modèle de Solow"
   ]
  },
  {
   "cell_type": "code",
   "execution_count": 16,
   "metadata": {},
   "outputs": [],
   "source": [
    "import seaborn as sns"
   ]
  },
  {
   "cell_type": "code",
   "execution_count": 17,
   "metadata": {},
   "outputs": [
    {
     "data": {
      "image/png": "[encoded data removed]",
      "text/plain": [
       "<Figure size 1080x576 with 1 Axes>"
      ]
     },
     "metadata": {},
     "output_type": "display_data"
    }
   ],
   "source": [
    "plt.style.use('dark_background')\n",
    "\n",
    "k = np.arange(0,90,0.01)\n",
    "y = k**(1/2)\n",
    "s = 0.6\n",
    "c = (1-s)*y\n",
    "delta_k = k * 0.1\n",
    "\n",
    "tangeante = 1/12* k + 3\n",
    "\n",
    "plt.figure(figsize = (15,8))\n",
    "plt.plot(k,y, label = \"$f(k)$\")\n",
    "plt.plot(k,s*y, label = \"$sf(k)$\")\n",
    "plt.plot(k, delta_k, label = \"$\\delta k$\")\n",
    "\n",
    "\n",
    "plt.text(36,6.1  ,\"C\")\n",
    "plt.text(36,3  ,\"B\")\n",
    "plt.text(36,0  ,\"A\")\n",
    "\n",
    "\n",
    "plt.plot(k, tangeante, \"--\")\n",
    "\n",
    "#plt.plot(k,y-s*y, label = \"consumption\")\n",
    "\n",
    "plt.xlabel(\"k\");plt.ylabel(\"y\"); plt.legend()\n",
    "plt.grid()\n",
    "\n"
   ]
  },
  {
   "cell_type": "markdown",
   "metadata": {},
   "source": [
    "Le graph ci-dessus est une représentation graphique du modèle de Solow à l'état stationnaire.  \n",
    "\n",
    "Questions: \n",
    "    1. Que représente la distance entre le point A et le point C ?\n",
    "    2. Que représente la distance entre B et C ?\n",
    "    3. Que représente la distance entre A et B ?\n",
    "    4. Est-ce que nous sommes à l'état stationnaire pour le niveau de production au point C ?\n",
    "    5. Est-ce que la règle d'or est respectée ?"
   ]
  },
  {
   "cell_type": "markdown",
   "metadata": {},
   "source": [
    "Réponses:\n",
    "   1. C'est le niveau de production $f(k)$ (le pib par tête pour k unité de capital par tête).\n",
    "   2. C'est la consommation. En effet les ménages épargnent $sf(k)$ au point B et produisent $f(k)$ au point C, ils leur restent donc $f(k)-sf(k)$ à consommer, ce qui est représenté par la distance entre B et C.  \n",
    "   3. AC peut représenter soit le niveau d'épargne $ s f(k)$ (coube jaune), soit le niveau de dépréciation du capital ($\\delta k$).\n",
    "   4. Oui ! En effet on voit que $y$ (soit $f(k)$ c'est pareil) au point C, correspond à un niveau de capital k, où les courbes de dépréciation du capital ($\\delta k$, courbe violette) et d'épargne ($sf(k)$ courbe violette) se coupent. On a donc $sf(k) = \\delta k$, nous sommes donc bien à l'état stationnaire.\n",
    "   5. Pour que la règle d'or soit respectée, il faut que $\\delta = f'(k)$ et donc que la courbe rouge et violette soient parallèles. Les deux courbes ne sont pas parallèles, ici nous ne respectons donc pas la règle d'or."
   ]
  },
  {
   "cell_type": "markdown",
   "metadata": {},
   "source": [
    "Question: Faudrait-il augmenter ou diminuer s pour être à $k_or^*$ ? "
   ]
  },
  {
   "cell_type": "markdown",
   "metadata": {},
   "source": [
    "Réponse: On voit que la pente de $\\delta k$ (la courbe violette), est plus grande que la pente de $f(k)$ à l'état stationnaire.  \n",
    "Le rendement marginal du capital est donc inférieur à la dépréciation marginale du capital : On a trop de capital !  \n",
    "\n",
    "Pour diminuer le niveau de capital à l'état stationnaire, il faut diminuer le taux d'épargne. Ainsi le niveau de capital à l'état stationnaire va se déplacer vers la gauche, et va faire augmenter la pente de la courbe rouge (et il faut continuer à diminuer s, jusqu'à ce la courbe rouge soit parralèle à la courbe violette.)."
   ]
  },
  {
   "cell_type": "code",
   "execution_count": null,
   "metadata": {},
   "outputs": [],
   "source": []
  }
 ],
 "metadata": {
  "kernelspec": {
   "display_name": "Python 3",
   "language": "python",
   "name": "python3"
  },
  "language_info": {
   "codemirror_mode": {
    "name": "ipython",
    "version": 3
   },
   "file_extension": ".py",
   "mimetype": "text/x-python",
   "name": "python",
   "nbconvert_exporter": "python",
   "pygments_lexer": "ipython3",
   "version": "3.7.4"
  },
  "toc": {
   "base_numbering": 1,
   "nav_menu": {},
   "number_sections": true,
   "sideBar": true,
   "skip_h1_title": false,
   "title_cell": "Table of Contents",
   "title_sidebar": "Contents",
   "toc_cell": false,
   "toc_position": {},
   "toc_section_display": true,
   "toc_window_display": false
  },
  "varInspector": {
   "cols": {
    "lenName": 16,
    "lenType": 16,
    "lenVar": 40
   },
   "kernels_config": {
    "python": {
     "delete_cmd_postfix": "",
     "delete_cmd_prefix": "del ",
     "library": "var_list.py",
     "varRefreshCmd": "print(var_dic_list())"
    },
    "r": {
     "delete_cmd_postfix": ") ",
     "delete_cmd_prefix": "rm(",
     "library": "var_list.r",
     "varRefreshCmd": "cat(var_dic_list()) "
    }
   },
   "types_to_exclude": [
    "module",
    "function",
    "builtin_function_or_method",
    "instance",
    "_Feature"
   ],
   "window_display": false
  }
 },
 "nbformat": 4,
 "nbformat_minor": 2
}
